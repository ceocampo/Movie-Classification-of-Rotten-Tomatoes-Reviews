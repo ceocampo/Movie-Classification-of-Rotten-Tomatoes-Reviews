{
 "cells": [
  {
   "cell_type": "markdown",
   "metadata": {},
   "source": [
    "# Project Overview\n",
    "- We have a dataset from the moview review website RottenTomatoes.com.\n",
    "- The dataset includes written reviews on movies, the names of each critic, review date, and a verdict of whether of not a movie was consider \"Fresh\" (positive review) or \"Rotten\" (negative review).\n",
    "- The goal of this project is to use the text in each review to create a model to predict whether or not a review is considered \"Fresh\" or \"Rotten\" based solely on the information extracted from the text review alone."
   ]
  },
  {
   "cell_type": "code",
   "execution_count": 57,
   "metadata": {},
   "outputs": [],
   "source": [
    "# Importing libraries\n",
    "import numpy as np\n",
    "import pandas as pd\n",
    "import matplotlib.pyplot as plt\n",
    "import seaborn as sns\n",
    "sns.set()\n",
    "\n",
    "%matplotlib inline"
   ]
  },
  {
   "cell_type": "code",
   "execution_count": 2,
   "metadata": {},
   "outputs": [],
   "source": [
    "# Loading in dataset\n",
    "df = pd.read_csv('reviews.tsv', sep='\\t', encoding = 'ISO-8859-1')\n",
    "df.head()"
   ]
  },
  {
   "cell_type": "markdown",
   "metadata": {},
   "source": [
    "# Exploratory Data Analysis\n",
    "- For our movie review classification, we will stick with the Rotten Tomoatoes benchmark of \"Fresh\" vs \"Rotten\".\n",
    "- This is a simpler task than predicting a rating as many of the critics appear to use their own metrics (e.g. numeric rating system out of 4, 5 or out of 10. Other critics use a letter grade system."
   ]
  },
  {
   "cell_type": "code",
   "execution_count": 55,
   "metadata": {},
   "outputs": [
    {
     "name": "stdout",
     "output_type": "stream",
     "text": [
      "List of Reviews:\n",
      "['3/5' nan 'C' '2/5' 'B-' '2/4' 'B' '3/4' '4/5' '4/4' '6/10' '1/4' '8'\n",
      " '2.5/4' '4/10' '2.0/5' '3/10' '7/10' 'A-' '5/5' 'F' '3.5/4' 'D+' '1.5/4'\n",
      " '3.5/5' '8/10' 'B+' '9/10' '2.5/5' '7.5/10' '5.5/10' 'C-' '1.5/5' '1/5'\n",
      " '5/10' 'C+' '0/5' '6' '0.5/4' 'D' '3.1/5' '3/6' '0/4' '2/10' '7' '3' 'A+'\n",
      " 'A' '4.5/5' '4.0/4' '9.5/10' '2.5' '2.1/2' '6.5/10' '3.7/5' '8.4/10' '9'\n",
      " '1' '7.2/10' '2.2/5' '0.5/10' '5' '0' '2' '1/10' '4.5' '7.7' '5.0/5'\n",
      " '8.5/10' '3.0/5' '0.5/5' '1.5/10' '3.0/4' '2.3/10' '4.5/10' '4/6' '3.5'\n",
      " '8.6/10' '6/8' 'D-' '2.0/4' '2.7' '4.2/10' '5.8' '4' '7.1/10' 'N'\n",
      " '3.5/10' '5.8/10' 'R' '4.0/5' '0/10' '5.0/10' '5.9/10' '2.4/5' '1.9/5'\n",
      " '4.9' '7.4/10' '1.5' '2.3/4' '8.8/10' '4.0/10' '2.2' '3.8/10' '6.8/10'\n",
      " '7.3' '7.0/10' '3.2' '4.2' '8.4' '5.5/5' '6.3/10' '7.6/10' '8.1/10'\n",
      " '3.6/5' '2/6' '7.7/10' '1.8' '8.9/10' '8.9' '8.2/10' '8.3/10' '2.6/6'\n",
      " '4.1/10' '2.5/10' 'F+' '6.0/10' '1.0/4' '7.9/10' '8.7/10' '4.3/10'\n",
      " '9.6/10' '9.0/10' '4.0' '1.7' '7.9' '6.7' '8.0/10' '9.2/10' '5.2' '5.9'\n",
      " '3.7' '4.7' '6.2/10' '1/6' '8.2' '2.6/5' '3.4' '9.7' '3.3/5' '3.8/5'\n",
      " '1/2' '7.4' '4.8' '1.6/5' '2/2' '1-5' '1.0' '4.3/5' '5/6' '9.2' '2.7/5'\n",
      " '4.9/10' '3.0' '3.1' '7.8/10' 'F-' '2.3/5' '3.0/10' '3/2' '7.8' '4.2/5'\n",
      " '9.0' '7.3/10' '4.4/5' '6.9/10' '0/6' 'T' '6.2' '3.3' '9.8' '8.5' '1.0/5'\n",
      " '4.1' '7.1' '3 1/2']\n",
      "\n",
      "\n",
      "Number of unique reviews:\n",
      "185\n"
     ]
    }
   ],
   "source": [
    "# Way too many types of reviews from critics with each reviewer using their own set of review rating system\n",
    "print('List of Reviews:')\n",
    "print(df['rating'].unique())\n",
    "print('\\n')\n",
    "print('Number of unique reviews:')\n",
    "print(df['rating'].nunique())"
   ]
  },
  {
   "cell_type": "code",
   "execution_count": 56,
   "metadata": {},
   "outputs": [
    {
     "data": {
      "text/plain": [
       "fresh     29876\n",
       "rotten    18993\n",
       "Name: fresh, dtype: int64"
      ]
     },
     "execution_count": 56,
     "metadata": {},
     "output_type": "execute_result"
    }
   ],
   "source": [
    "# We'll stick with Rotten Tomatoes' final review classification of \"Fresh\" vs. \"Rotten\" when training our model\n",
    "df['fresh'].value_counts()"
   ]
  },
  {
   "cell_type": "code",
   "execution_count": 6,
   "metadata": {},
   "outputs": [
    {
     "data": {
      "text/plain": [
       "array(['fresh', 'rotten'], dtype=object)"
      ]
     },
     "execution_count": 6,
     "metadata": {},
     "output_type": "execute_result"
    }
   ],
   "source": [
    "df['fresh'].unique()"
   ]
  },
  {
   "cell_type": "code",
   "execution_count": 58,
   "metadata": {},
   "outputs": [
    {
     "data": {
      "image/png": "[encoded data removed]",
      "text/plain": [
       "<Figure size 432x288 with 1 Axes>"
      ]
     },
     "metadata": {
      "needs_background": "light"
     },
     "output_type": "display_data"
    }
   ],
   "source": [
    "# Distribution of \"Fresh\" vs \"Rotten\" reviews are roughly balanced. \n",
    "sns.countplot(df['fresh'])\n",
    "plt.show()"
   ]
  },
  {
   "cell_type": "code",
   "execution_count": 7,
   "metadata": {},
   "outputs": [
    {
     "data": {
      "text/plain": [
       "id                0\n",
       "review         5563\n",
       "rating        13517\n",
       "fresh             0\n",
       "critic         2722\n",
       "top_critic        0\n",
       "publisher       309\n",
       "date              0\n",
       "dtype: int64"
      ]
     },
     "execution_count": 7,
     "metadata": {},
     "output_type": "execute_result"
    }
   ],
   "source": [
    "# Checking for missing values\n",
    "df.isnull().sum()"
   ]
  },
  {
   "cell_type": "code",
   "execution_count": 8,
   "metadata": {},
   "outputs": [],
   "source": [
    "# Since we cannot work with missing data or find a viable way to replace missing text reviews, we will drop these missings rows under reviews.\n",
    "df = df.dropna(subset=['review'])"
   ]
  },
  {
   "cell_type": "code",
   "execution_count": 9,
   "metadata": {},
   "outputs": [
    {
     "data": {
      "text/plain": [
       "id                0\n",
       "review            0\n",
       "rating        13490\n",
       "fresh             0\n",
       "critic         1930\n",
       "top_critic        0\n",
       "publisher       309\n",
       "date              0\n",
       "dtype: int64"
      ]
     },
     "execution_count": 9,
     "metadata": {},
     "output_type": "execute_result"
    }
   ],
   "source": [
    "df.isnull().sum()"
   ]
  },
  {
   "cell_type": "code",
   "execution_count": 10,
   "metadata": {},
   "outputs": [
    {
     "data": {
      "text/html": [
       "<div>\n",
       "<style scoped>\n",
       "    .dataframe tbody tr th:only-of-type {\n",
       "        vertical-align: middle;\n",
       "    }\n",
       "\n",
       "    .dataframe tbody tr th {\n",
       "        vertical-align: top;\n",
       "    }\n",
       "\n",
       "    .dataframe thead th {\n",
       "        text-align: right;\n",
       "    }\n",
       "</style>\n",
       "<table border=\"1\" class=\"dataframe\">\n",
       "  <thead>\n",
       "    <tr style=\"text-align: right;\">\n",
       "      <th></th>\n",
       "      <th>id</th>\n",
       "      <th>review</th>\n",
       "      <th>rating</th>\n",
       "      <th>fresh</th>\n",
       "      <th>critic</th>\n",
       "      <th>top_critic</th>\n",
       "      <th>publisher</th>\n",
       "      <th>date</th>\n",
       "    </tr>\n",
       "  </thead>\n",
       "  <tbody>\n",
       "    <tr>\n",
       "      <th>count</th>\n",
       "      <td>48869.000000</td>\n",
       "      <td>48869</td>\n",
       "      <td>35379</td>\n",
       "      <td>48869</td>\n",
       "      <td>46939</td>\n",
       "      <td>48869.000000</td>\n",
       "      <td>48560</td>\n",
       "      <td>48869</td>\n",
       "    </tr>\n",
       "    <tr>\n",
       "      <th>unique</th>\n",
       "      <td>NaN</td>\n",
       "      <td>48682</td>\n",
       "      <td>185</td>\n",
       "      <td>2</td>\n",
       "      <td>3457</td>\n",
       "      <td>NaN</td>\n",
       "      <td>1276</td>\n",
       "      <td>5789</td>\n",
       "    </tr>\n",
       "    <tr>\n",
       "      <th>top</th>\n",
       "      <td>NaN</td>\n",
       "      <td>Parental Content Review</td>\n",
       "      <td>3/4</td>\n",
       "      <td>fresh</td>\n",
       "      <td>Dennis Schwartz</td>\n",
       "      <td>NaN</td>\n",
       "      <td>New York Times</td>\n",
       "      <td>January 1, 2000</td>\n",
       "    </tr>\n",
       "    <tr>\n",
       "      <th>freq</th>\n",
       "      <td>NaN</td>\n",
       "      <td>24</td>\n",
       "      <td>3324</td>\n",
       "      <td>29876</td>\n",
       "      <td>413</td>\n",
       "      <td>NaN</td>\n",
       "      <td>580</td>\n",
       "      <td>3394</td>\n",
       "    </tr>\n",
       "    <tr>\n",
       "      <th>mean</th>\n",
       "      <td>1051.236735</td>\n",
       "      <td>NaN</td>\n",
       "      <td>NaN</td>\n",
       "      <td>NaN</td>\n",
       "      <td>NaN</td>\n",
       "      <td>0.253248</td>\n",
       "      <td>NaN</td>\n",
       "      <td>NaN</td>\n",
       "    </tr>\n",
       "    <tr>\n",
       "      <th>std</th>\n",
       "      <td>584.905230</td>\n",
       "      <td>NaN</td>\n",
       "      <td>NaN</td>\n",
       "      <td>NaN</td>\n",
       "      <td>NaN</td>\n",
       "      <td>0.434876</td>\n",
       "      <td>NaN</td>\n",
       "      <td>NaN</td>\n",
       "    </tr>\n",
       "    <tr>\n",
       "      <th>min</th>\n",
       "      <td>3.000000</td>\n",
       "      <td>NaN</td>\n",
       "      <td>NaN</td>\n",
       "      <td>NaN</td>\n",
       "      <td>NaN</td>\n",
       "      <td>0.000000</td>\n",
       "      <td>NaN</td>\n",
       "      <td>NaN</td>\n",
       "    </tr>\n",
       "    <tr>\n",
       "      <th>25%</th>\n",
       "      <td>559.000000</td>\n",
       "      <td>NaN</td>\n",
       "      <td>NaN</td>\n",
       "      <td>NaN</td>\n",
       "      <td>NaN</td>\n",
       "      <td>0.000000</td>\n",
       "      <td>NaN</td>\n",
       "      <td>NaN</td>\n",
       "    </tr>\n",
       "    <tr>\n",
       "      <th>50%</th>\n",
       "      <td>1084.000000</td>\n",
       "      <td>NaN</td>\n",
       "      <td>NaN</td>\n",
       "      <td>NaN</td>\n",
       "      <td>NaN</td>\n",
       "      <td>0.000000</td>\n",
       "      <td>NaN</td>\n",
       "      <td>NaN</td>\n",
       "    </tr>\n",
       "    <tr>\n",
       "      <th>75%</th>\n",
       "      <td>1542.000000</td>\n",
       "      <td>NaN</td>\n",
       "      <td>NaN</td>\n",
       "      <td>NaN</td>\n",
       "      <td>NaN</td>\n",
       "      <td>1.000000</td>\n",
       "      <td>NaN</td>\n",
       "      <td>NaN</td>\n",
       "    </tr>\n",
       "    <tr>\n",
       "      <th>max</th>\n",
       "      <td>2000.000000</td>\n",
       "      <td>NaN</td>\n",
       "      <td>NaN</td>\n",
       "      <td>NaN</td>\n",
       "      <td>NaN</td>\n",
       "      <td>1.000000</td>\n",
       "      <td>NaN</td>\n",
       "      <td>NaN</td>\n",
       "    </tr>\n",
       "  </tbody>\n",
       "</table>\n",
       "</div>"
      ],
      "text/plain": [
       "                  id                   review rating  fresh           critic  \\\n",
       "count   48869.000000                    48869  35379  48869            46939   \n",
       "unique           NaN                    48682    185      2             3457   \n",
       "top              NaN  Parental Content Review    3/4  fresh  Dennis Schwartz   \n",
       "freq             NaN                       24   3324  29876              413   \n",
       "mean     1051.236735                      NaN    NaN    NaN              NaN   \n",
       "std       584.905230                      NaN    NaN    NaN              NaN   \n",
       "min         3.000000                      NaN    NaN    NaN              NaN   \n",
       "25%       559.000000                      NaN    NaN    NaN              NaN   \n",
       "50%      1084.000000                      NaN    NaN    NaN              NaN   \n",
       "75%      1542.000000                      NaN    NaN    NaN              NaN   \n",
       "max      2000.000000                      NaN    NaN    NaN              NaN   \n",
       "\n",
       "          top_critic       publisher             date  \n",
       "count   48869.000000           48560            48869  \n",
       "unique           NaN            1276             5789  \n",
       "top              NaN  New York Times  January 1, 2000  \n",
       "freq             NaN             580             3394  \n",
       "mean        0.253248             NaN              NaN  \n",
       "std         0.434876             NaN              NaN  \n",
       "min         0.000000             NaN              NaN  \n",
       "25%         0.000000             NaN              NaN  \n",
       "50%         0.000000             NaN              NaN  \n",
       "75%         1.000000             NaN              NaN  \n",
       "max         1.000000             NaN              NaN  "
      ]
     },
     "execution_count": 10,
     "metadata": {},
     "output_type": "execute_result"
    }
   ],
   "source": [
    "df.describe(include='all')"
   ]
  },
  {
   "cell_type": "code",
   "execution_count": 11,
   "metadata": {},
   "outputs": [],
   "source": [
    "df_fresh = df[['fresh', 'review']]"
   ]
  },
  {
   "cell_type": "code",
   "execution_count": 12,
   "metadata": {},
   "outputs": [],
   "source": [
    "# Checking for reviews with no text in review\n",
    "blank_reviews = []\n",
    "\n",
    "# (index, label, review text)\n",
    "for i, label, review in df_fresh.itertuples():\n",
    "    if type(review) == str:\n",
    "        if review.isspace():\n",
    "            blank_reviews.append(i)"
   ]
  },
  {
   "cell_type": "code",
   "execution_count": 13,
   "metadata": {},
   "outputs": [
    {
     "data": {
      "text/plain": [
       "[]"
      ]
     },
     "execution_count": 13,
     "metadata": {},
     "output_type": "execute_result"
    }
   ],
   "source": [
    "# All remaining reviews contain text\n",
    "blank_reviews"
   ]
  },
  {
   "cell_type": "code",
   "execution_count": 69,
   "metadata": {
    "scrolled": true
   },
   "outputs": [
    {
     "name": "stderr",
     "output_type": "stream",
     "text": [
      "E:\\Users\\Charles\\Anaconda3\\envs\\nlp_course\\lib\\site-packages\\ipykernel_launcher.py:2: SettingWithCopyWarning: \n",
      "A value is trying to be set on a copy of a slice from a DataFrame.\n",
      "Try using .loc[row_indexer,col_indexer] = value instead\n",
      "\n",
      "See the caveats in the documentation: http://pandas.pydata.org/pandas-docs/stable/indexing.html#indexing-view-versus-copy\n",
      "  \n"
     ]
    }
   ],
   "source": [
    "# Addining in a new feature to see if there is any correlation to the length of the review to the fresh rating.\n",
    "df_fresh['review length'] = df_fresh['review'].apply(lambda review: len(review))"
   ]
  },
  {
   "cell_type": "code",
   "execution_count": 70,
   "metadata": {},
   "outputs": [
    {
     "data": {
      "text/html": [
       "<div>\n",
       "<style scoped>\n",
       "    .dataframe tbody tr th:only-of-type {\n",
       "        vertical-align: middle;\n",
       "    }\n",
       "\n",
       "    .dataframe tbody tr th {\n",
       "        vertical-align: top;\n",
       "    }\n",
       "\n",
       "    .dataframe thead th {\n",
       "        text-align: right;\n",
       "    }\n",
       "</style>\n",
       "<table border=\"1\" class=\"dataframe\">\n",
       "  <thead>\n",
       "    <tr style=\"text-align: right;\">\n",
       "      <th></th>\n",
       "      <th>fresh</th>\n",
       "      <th>review</th>\n",
       "      <th>review length</th>\n",
       "    </tr>\n",
       "  </thead>\n",
       "  <tbody>\n",
       "    <tr>\n",
       "      <th>0</th>\n",
       "      <td>fresh</td>\n",
       "      <td>A distinctly gallows take on contemporary fina...</td>\n",
       "      <td>168</td>\n",
       "    </tr>\n",
       "    <tr>\n",
       "      <th>1</th>\n",
       "      <td>rotten</td>\n",
       "      <td>It's an allegory in search of a meaning that n...</td>\n",
       "      <td>102</td>\n",
       "    </tr>\n",
       "    <tr>\n",
       "      <th>2</th>\n",
       "      <td>fresh</td>\n",
       "      <td>... life lived in a bubble in financial dealin...</td>\n",
       "      <td>232</td>\n",
       "    </tr>\n",
       "    <tr>\n",
       "      <th>3</th>\n",
       "      <td>fresh</td>\n",
       "      <td>Continuing along a line introduced in last yea...</td>\n",
       "      <td>234</td>\n",
       "    </tr>\n",
       "    <tr>\n",
       "      <th>4</th>\n",
       "      <td>fresh</td>\n",
       "      <td>... a perverse twist on neorealism...</td>\n",
       "      <td>38</td>\n",
       "    </tr>\n",
       "  </tbody>\n",
       "</table>\n",
       "</div>"
      ],
      "text/plain": [
       "    fresh                                             review  review length\n",
       "0   fresh  A distinctly gallows take on contemporary fina...            168\n",
       "1  rotten  It's an allegory in search of a meaning that n...            102\n",
       "2   fresh  ... life lived in a bubble in financial dealin...            232\n",
       "3   fresh  Continuing along a line introduced in last yea...            234\n",
       "4   fresh             ... a perverse twist on neorealism...              38"
      ]
     },
     "execution_count": 70,
     "metadata": {},
     "output_type": "execute_result"
    }
   ],
   "source": [
    "df_fresh.head()"
   ]
  },
  {
   "cell_type": "code",
   "execution_count": 88,
   "metadata": {
    "scrolled": true
   },
   "outputs": [
    {
     "data": {
      "image/png": "[encoded data removed]",
      "text/plain": [
       "<Figure size 432x288 with 1 Axes>"
      ]
     },
     "metadata": {
      "needs_background": "light"
     },
     "output_type": "display_data"
    }
   ],
   "source": [
    "bins = 20\n",
    "plt.hist(df_fresh[df_fresh['fresh']=='fresh']['review length'],bins=bins,alpha=0.5)\n",
    "plt.hist(df_fresh[df_fresh['fresh']=='rotten']['review length'],bins=bins,alpha=0.5)\n",
    "plt.legend(('fresh','rotten'))\n",
    "plt.show()"
   ]
  },
  {
   "cell_type": "markdown",
   "metadata": {},
   "source": [
    "- Not a clear trend to see if the length of reviews has any relation to the movie review.\n",
    "- The distribution of review length looks pretty similar between \"Fresh\" movies and \"Rotten\" movies."
   ]
  },
  {
   "cell_type": "markdown",
   "metadata": {},
   "source": [
    "# Model Selection\n",
    "- Feature extraction of the text reviews was performed using TfidfVectorizer.\n",
    "- The classification models evaluated include:\n",
    "- LinearSVC\n",
    "- Logistic Regression Model\n",
    "- XGBoost\n",
    "- Random Forest\n"
   ]
  },
  {
   "cell_type": "code",
   "execution_count": 14,
   "metadata": {},
   "outputs": [],
   "source": [
    "# Splitting data into training and testing datasets\n",
    "from sklearn.model_selection import train_test_split\n",
    "\n",
    "X = df_fresh['review']\n",
    "y = df_fresh['fresh']\n",
    "\n",
    "X_train, X_test, y_train, y_test = train_test_split(X, y, test_size=0.3, random_state=42)"
   ]
  },
  {
   "cell_type": "markdown",
   "metadata": {},
   "source": [
    "**Linear SVC**"
   ]
  },
  {
   "cell_type": "code",
   "execution_count": 15,
   "metadata": {},
   "outputs": [],
   "source": [
    "# Building a simple pipeline to preprocess text data\n",
    "from sklearn.pipeline import Pipeline\n",
    "from sklearn.feature_extraction.text import TfidfVectorizer\n",
    "from sklearn.svm import LinearSVC\n",
    "\n",
    "text_clf_svc = Pipeline([('tfidf', TfidfVectorizer()),\n",
    "                    ('clf', LinearSVC())])"
   ]
  },
  {
   "cell_type": "code",
   "execution_count": 19,
   "metadata": {},
   "outputs": [],
   "source": [
    "# Fitting and generating predictions\n",
    "text_clf_svc.fit(X_train, y_train)\n",
    "y_pred_svc = text_clf_svc.predict(X_test)"
   ]
  },
  {
   "cell_type": "code",
   "execution_count": 90,
   "metadata": {},
   "outputs": [
    {
     "name": "stdout",
     "output_type": "stream",
     "text": [
      "              precision    recall  f1-score   support\n",
      "\n",
      "       fresh       0.81      0.84      0.82      8932\n",
      "      rotten       0.74      0.68      0.71      5729\n",
      "\n",
      "    accuracy                           0.78     14661\n",
      "   macro avg       0.77      0.76      0.77     14661\n",
      "weighted avg       0.78      0.78      0.78     14661\n",
      "\n",
      "[[7545 1387]\n",
      " [1819 3910]]\n"
     ]
    }
   ],
   "source": [
    "from sklearn.metrics import classification_report, confusion_matrix, accuracy_score\n",
    "print(classification_report(y_test, y_pred_svc))\n",
    "print(confusion_matrix(y_test, y_pred_svc))"
   ]
  },
  {
   "cell_type": "markdown",
   "metadata": {},
   "source": [
    "**Logistic Regression**"
   ]
  },
  {
   "cell_type": "code",
   "execution_count": 21,
   "metadata": {},
   "outputs": [],
   "source": [
    "from sklearn.linear_model import LogisticRegression\n",
    "# Building pipeline\n",
    "text_clf_lr = Pipeline([('tfidf', TfidfVectorizer()),\n",
    "                    ('clf', LogisticRegression())])\n",
    "# Fitting and generating predictions\n",
    "text_clf_lr.fit(X_train, y_train)\n",
    "y_pred_lr = text_clf_lr.predict(X_test)"
   ]
  },
  {
   "cell_type": "code",
   "execution_count": 22,
   "metadata": {},
   "outputs": [
    {
     "name": "stdout",
     "output_type": "stream",
     "text": [
      "              precision    recall  f1-score   support\n",
      "\n",
      "       fresh       0.78      0.88      0.83      8932\n",
      "      rotten       0.76      0.62      0.69      5729\n",
      "\n",
      "    accuracy                           0.78     14661\n",
      "   macro avg       0.77      0.75      0.76     14661\n",
      "weighted avg       0.78      0.78      0.77     14661\n",
      "\n",
      "[[7821 1111]\n",
      " [2162 3567]]\n"
     ]
    }
   ],
   "source": [
    "print(classification_report(y_test, y_pred_lr))\n",
    "print(confusion_matrix(y_test, y_pred_lr))"
   ]
  },
  {
   "cell_type": "markdown",
   "metadata": {},
   "source": [
    "**XGBoost**"
   ]
  },
  {
   "cell_type": "code",
   "execution_count": 23,
   "metadata": {},
   "outputs": [],
   "source": [
    "from xgboost import XGBClassifier\n",
    "# Building pipeline\n",
    "text_clf_xgb = Pipeline([('tfidf', TfidfVectorizer()),\n",
    "                    ('clf', XGBClassifier())])\n",
    "# Fitting and generating predictions\n",
    "text_clf_xgb.fit(X_train, y_train)\n",
    "y_pred_xgb = text_clf_xgb.predict(X_test)"
   ]
  },
  {
   "cell_type": "code",
   "execution_count": 24,
   "metadata": {
    "scrolled": true
   },
   "outputs": [
    {
     "name": "stdout",
     "output_type": "stream",
     "text": [
      "              precision    recall  f1-score   support\n",
      "\n",
      "       fresh       0.65      0.96      0.77      8932\n",
      "      rotten       0.77      0.18      0.29      5729\n",
      "\n",
      "    accuracy                           0.66     14661\n",
      "   macro avg       0.71      0.57      0.53     14661\n",
      "weighted avg       0.69      0.66      0.59     14661\n",
      "\n",
      "[[8619  313]\n",
      " [4700 1029]]\n"
     ]
    }
   ],
   "source": [
    "print(classification_report(y_test, y_pred_xgb))\n",
    "print(confusion_matrix(y_test, y_pred_xgb))"
   ]
  },
  {
   "cell_type": "markdown",
   "metadata": {},
   "source": [
    "**Random Forest Classifier**"
   ]
  },
  {
   "cell_type": "code",
   "execution_count": 25,
   "metadata": {},
   "outputs": [],
   "source": [
    "from sklearn.ensemble import RandomForestClassifier\n",
    "# Building pipeline\n",
    "text_clf_rf = Pipeline([('tfidf', TfidfVectorizer()),\n",
    "                    ('clf', RandomForestClassifier())])\n",
    "# Fitting and generating predictions\n",
    "text_clf_rf.fit(X_train, y_train)\n",
    "y_pred_rf = text_clf_rf.predict(X_test)"
   ]
  },
  {
   "cell_type": "code",
   "execution_count": 27,
   "metadata": {
    "scrolled": true
   },
   "outputs": [
    {
     "name": "stdout",
     "output_type": "stream",
     "text": [
      "              precision    recall  f1-score   support\n",
      "\n",
      "       fresh       0.70      0.92      0.79      8932\n",
      "      rotten       0.75      0.38      0.50      5729\n",
      "\n",
      "    accuracy                           0.71     14661\n",
      "   macro avg       0.73      0.65      0.65     14661\n",
      "weighted avg       0.72      0.71      0.68     14661\n",
      "\n",
      "[[8221  711]\n",
      " [3562 2167]]\n"
     ]
    }
   ],
   "source": [
    "print(classification_report(y_test, y_pred_rf))\n",
    "print(confusion_matrix(y_test, y_pred_rf))"
   ]
  },
  {
   "cell_type": "markdown",
   "metadata": {},
   "source": [
    "# Model Comparisons"
   ]
  },
  {
   "cell_type": "code",
   "execution_count": 106,
   "metadata": {},
   "outputs": [
    {
     "data": {
      "text/html": [
       "<div>\n",
       "<style scoped>\n",
       "    .dataframe tbody tr th:only-of-type {\n",
       "        vertical-align: middle;\n",
       "    }\n",
       "\n",
       "    .dataframe tbody tr th {\n",
       "        vertical-align: top;\n",
       "    }\n",
       "\n",
       "    .dataframe thead th {\n",
       "        text-align: right;\n",
       "    }\n",
       "</style>\n",
       "<table border=\"1\" class=\"dataframe\">\n",
       "  <thead>\n",
       "    <tr style=\"text-align: right;\">\n",
       "      <th></th>\n",
       "      <th>Accuracy</th>\n",
       "      <th>Model</th>\n",
       "    </tr>\n",
       "  </thead>\n",
       "  <tbody>\n",
       "    <tr>\n",
       "      <th>0</th>\n",
       "      <td>0.781325</td>\n",
       "      <td>Linear SVC</td>\n",
       "    </tr>\n",
       "    <tr>\n",
       "      <th>1</th>\n",
       "      <td>0.776755</td>\n",
       "      <td>Logistic Regression</td>\n",
       "    </tr>\n",
       "    <tr>\n",
       "      <th>2</th>\n",
       "      <td>0.658072</td>\n",
       "      <td>XGBoost</td>\n",
       "    </tr>\n",
       "    <tr>\n",
       "      <th>3</th>\n",
       "      <td>0.708546</td>\n",
       "      <td>Random Forest</td>\n",
       "    </tr>\n",
       "  </tbody>\n",
       "</table>\n",
       "</div>"
      ],
      "text/plain": [
       "   Accuracy                Model\n",
       "0  0.781325           Linear SVC\n",
       "1  0.776755  Logistic Regression\n",
       "2  0.658072              XGBoost\n",
       "3  0.708546        Random Forest"
      ]
     },
     "execution_count": 106,
     "metadata": {},
     "output_type": "execute_result"
    }
   ],
   "source": [
    "model_performance = [accuracy_score(y_test, y_pred_svc),accuracy_score(y_test, y_pred_lr),accuracy_score(y_test, y_pred_xgb),accuracy_score(y_test, y_pred_rf)]\n",
    "models = ['Linear SVC', 'Logistic Regression', 'XGBoost', 'Random Forest']\n",
    "df_model = pd.DataFrame(model_performance, columns=['Accuracy'])\n",
    "df_model['Model'] = models\n",
    "df_model"
   ]
  },
  {
   "cell_type": "code",
   "execution_count": 107,
   "metadata": {},
   "outputs": [
    {
     "data": {
      "image/png": "[encoded data removed]",
      "text/plain": [
       "<Figure size 576x432 with 1 Axes>"
      ]
     },
     "metadata": {
      "needs_background": "light"
     },
     "output_type": "display_data"
    }
   ],
   "source": [
    "plt.figure(figsize=(8,6))\n",
    "plt.ylim(0.5,0.8)\n",
    "sns.barplot(x='Model', y='Accuracy', data=df_model)\n",
    "plt.show()"
   ]
  },
  {
   "cell_type": "markdown",
   "metadata": {},
   "source": [
    "- The top two performers were the linear SVC and logistic regression models.\n",
    "- Ensemble tree based models don't appear to be that great.\n",
    "- Surprisingly the XGBoost model performed worse than the normal random forest model, and the worst out of the four models."
   ]
  },
  {
   "cell_type": "markdown",
   "metadata": {},
   "source": [
    "# Sample Predictions\n",
    "- We will use the linear SVC model for the sample predictions.\n",
    "- Randomly selected reviews from the testing data will be used for these predictions."
   ]
  },
  {
   "cell_type": "markdown",
   "metadata": {},
   "source": [
    "**Sample Prediction 1**"
   ]
  },
  {
   "cell_type": "code",
   "execution_count": 132,
   "metadata": {},
   "outputs": [
    {
     "data": {
      "text/plain": [
       "'As a work of cinema, The Passion of the Christ possesses a majestic beauty within its horror, one that comes most effectively through a tiny, solitary teardrop.'"
      ]
     },
     "execution_count": 132,
     "metadata": {},
     "output_type": "execute_result"
    }
   ],
   "source": [
    "np.random.seed(42)\n",
    "rand_sample_1 = int(np.random.randint(0, len(X_test), size=1))\n",
    "list(X_test)[rand_sample_1]"
   ]
  },
  {
   "cell_type": "code",
   "execution_count": 143,
   "metadata": {},
   "outputs": [
    {
     "data": {
      "text/plain": [
       "array(['fresh'], dtype=object)"
      ]
     },
     "execution_count": 143,
     "metadata": {},
     "output_type": "execute_result"
    }
   ],
   "source": [
    "y_pred_1 = text_clf_svc.predict([list(X_test)[rand_sample_1]])\n",
    "y_pred_1"
   ]
  },
  {
   "cell_type": "code",
   "execution_count": 151,
   "metadata": {},
   "outputs": [
    {
     "data": {
      "text/plain": [
       "26760    fresh\n",
       "Name: fresh, dtype: object"
      ]
     },
     "execution_count": 151,
     "metadata": {},
     "output_type": "execute_result"
    }
   ],
   "source": [
    "df[df['review'] == 'As a work of cinema, The Passion of the Christ possesses a majestic beauty within its horror, one that comes most effectively through a tiny, solitary teardrop.']['fresh']"
   ]
  },
  {
   "cell_type": "markdown",
   "metadata": {},
   "source": [
    "- Model Predition: 'fresh'\n",
    "- True Result: 'fresh'"
   ]
  },
  {
   "cell_type": "markdown",
   "metadata": {},
   "source": [
    "**Sample Prediction 2**"
   ]
  },
  {
   "cell_type": "code",
   "execution_count": 144,
   "metadata": {},
   "outputs": [
    {
     "data": {
      "text/plain": [
       "'A character-driven dramedy with equal parts humor and heart, Safety Not Guaranteed is a magical film about the human spirit whose charm is impossible to ignore.'"
      ]
     },
     "execution_count": 144,
     "metadata": {},
     "output_type": "execute_result"
    }
   ],
   "source": [
    "np.random.seed(43)\n",
    "rand_sample_2 = int(np.random.randint(0, len(X_test), size=1))\n",
    "list(X_test)[rand_sample_2]"
   ]
  },
  {
   "cell_type": "code",
   "execution_count": 145,
   "metadata": {},
   "outputs": [
    {
     "data": {
      "text/plain": [
       "array(['fresh'], dtype=object)"
      ]
     },
     "execution_count": 145,
     "metadata": {},
     "output_type": "execute_result"
    }
   ],
   "source": [
    "y_pred_2 = text_clf_svc.predict([list(X_test)[rand_sample_2]])\n",
    "y_pred_2"
   ]
  },
  {
   "cell_type": "code",
   "execution_count": 153,
   "metadata": {},
   "outputs": [
    {
     "data": {
      "text/plain": [
       "5070    fresh\n",
       "Name: fresh, dtype: object"
      ]
     },
     "execution_count": 153,
     "metadata": {},
     "output_type": "execute_result"
    }
   ],
   "source": [
    "df[df['review'] == 'A character-driven dramedy with equal parts humor and heart, Safety Not Guaranteed is a magical film about the human spirit whose charm is impossible to ignore.']['fresh']"
   ]
  },
  {
   "cell_type": "markdown",
   "metadata": {},
   "source": [
    "- Model Predition: 'fresh'\n",
    "- True Result: 'fresh'"
   ]
  },
  {
   "cell_type": "markdown",
   "metadata": {},
   "source": [
    "**Sample Prediction 3**"
   ]
  },
  {
   "cell_type": "code",
   "execution_count": 147,
   "metadata": {},
   "outputs": [
    {
     "data": {
      "text/plain": [
       "'My mother is going to love this movie. '"
      ]
     },
     "execution_count": 147,
     "metadata": {},
     "output_type": "execute_result"
    }
   ],
   "source": [
    "np.random.seed(44)\n",
    "rand_sample_3 = int(np.random.randint(0, len(X_test), size=1))\n",
    "list(X_test)[rand_sample_3]"
   ]
  },
  {
   "cell_type": "code",
   "execution_count": 149,
   "metadata": {},
   "outputs": [
    {
     "data": {
      "text/plain": [
       "array(['rotten'], dtype=object)"
      ]
     },
     "execution_count": 149,
     "metadata": {},
     "output_type": "execute_result"
    }
   ],
   "source": [
    "y_pred_3 = text_clf_svc.predict([list(X_test)[rand_sample_3]])\n",
    "y_pred_3"
   ]
  },
  {
   "cell_type": "code",
   "execution_count": 154,
   "metadata": {},
   "outputs": [
    {
     "data": {
      "text/plain": [
       "15337    rotten\n",
       "Name: fresh, dtype: object"
      ]
     },
     "execution_count": 154,
     "metadata": {},
     "output_type": "execute_result"
    }
   ],
   "source": [
    "df[df['review'] == 'My mother is going to love this movie. ']['fresh']"
   ]
  },
  {
   "cell_type": "markdown",
   "metadata": {},
   "source": [
    "- Model Predition: 'rotten'\n",
    "- True Result: 'rotten'"
   ]
  },
  {
   "cell_type": "markdown",
   "metadata": {},
   "source": [
    "**Some notes on these preditions:** <br>\n",
    "- After surveying the text reviews for these sample predictions, it seems reasonable to predict on our own that the first two reviews would be given a \"Fresh\" rating given how the reviews were written.\n",
    "- The third review also looked like it had a positive sentiment to it using the word \"love\". However, the model predicted that this review would be \"Rotten\".\n",
    "- Interestingly, the actual review was indeed \"Rotten\", perhaps this review was sarcastic and the model appears to have understood this after feature extraction of the text."
   ]
  }
 ],
 "metadata": {
  "kernelspec": {
   "display_name": "Python 3",
   "language": "python",
   "name": "python3"
  },
  "language_info": {
   "codemirror_mode": {
    "name": "ipython",
    "version": 3
   },
   "file_extension": ".py",
   "mimetype": "text/x-python",
   "name": "python",
   "nbconvert_exporter": "python",
   "pygments_lexer": "ipython3",
   "version": "3.7.5"
  }
 },
 "nbformat": 4,
 "nbformat_minor": 2
}
